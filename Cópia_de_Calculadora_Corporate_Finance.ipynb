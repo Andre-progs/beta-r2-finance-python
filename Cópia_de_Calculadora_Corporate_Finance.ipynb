{
  "nbformat": 4,
  "nbformat_minor": 0,
  "metadata": {
    "colab": {
      "provenance": [],
      "authorship_tag": "ABX9TyNLVQfelQ6/jm8Xgn8EKyM8",
      "include_colab_link": true
    },
    "kernelspec": {
      "name": "python3",
      "display_name": "Python 3"
    },
    "language_info": {
      "name": "python"
    }
  },
  "cells": [
    {
      "cell_type": "markdown",
      "metadata": {
        "id": "view-in-github",
        "colab_type": "text"
      },
      "source": [
        "<a href=\"https://colab.research.google.com/github/Andre-progs/beta-r2-finance-python/blob/main/C%C3%B3pia_de_Calculadora_Corporate_Finance.ipynb\" target=\"_parent\"><img src=\"https://colab.research.google.com/assets/colab-badge.svg\" alt=\"Open In Colab\"/></a>"
      ]
    },
    {
      "cell_type": "code",
      "execution_count": null,
      "metadata": {
        "colab": {
          "base_uri": "https://localhost:8080/"
        },
        "id": "ZUS3tylRlf4u",
        "outputId": "e960b2ed-b338-4d74-9e02-419ee6d8c812"
      },
      "outputs": [
        {
          "output_type": "stream",
          "name": "stdout",
          "text": [
            "Digite os retornos do ativo, separados por vírgula (ex: 0.01, 0.02, -0.01):\n",
            "0,01\n",
            "Digite os retornos do mercado, separados por vírgula (ex: 0.01, 0.02, -0.01):\n",
            "0,02\n",
            "Beta: 0.5000\n",
            "Coeficiente de Determinação (R²): 1.0000\n"
          ]
        }
      ],
      "source": [
        "import numpy as np\n",
        "from sklearn.linear_model import LinearRegression\n",
        "\n",
        "def calcular_beta_r2(retornos_ativo, retornos_mercado):\n",
        "\n",
        "    X = np.array(retornos_mercado).reshape(-1, 1)\n",
        "    y = np.array(retornos_ativo)\n",
        "\n",
        "    modelo = LinearRegression()\n",
        "    modelo.fit(X, y)\n",
        "\n",
        "    beta = modelo.coef_[0]\n",
        "    r2 = modelo.score(X, y)\n",
        "\n",
        "    return beta, r2\n",
        "\n",
        "def entrada_interativa():\n",
        "    print(\"Digite os retornos do ativo, separados por vírgula (ex: 0.01, 0.02, -0.01):\")\n",
        "    entrada_ativo = input()\n",
        "    print(\"Digite os retornos do mercado, separados por vírgula (ex: 0.01, 0.02, -0.01):\")\n",
        "    entrada_mercado = input()\n",
        "\n",
        "    try:\n",
        "        retornos_ativo = [float(x.strip()) for x in entrada_ativo.split(',')]\n",
        "        retornos_mercado = [float(x.strip()) for x in entrada_mercado.split(',')]\n",
        "    except ValueError:\n",
        "        print(\"Erro: Certifique-se de digitar números válidos separados por vírgula.\")\n",
        "        return None, None\n",
        "\n",
        "    if len(retornos_ativo) != len(retornos_mercado):\n",
        "        print(\"Erro: As listas de retornos devem ter o mesmo tamanho.\")\n",
        "        return None, None\n",
        "\n",
        "    return retornos_ativo, retornos_mercado\n",
        "\n",
        "if __name__ == \"__main__\":\n",
        "    retornos_ativo, retornos_mercado = entrada_interativa()\n",
        "    if retornos_ativo is not None and retornos_mercado is not None:\n",
        "        beta, r2 = calcular_beta_r2(retornos_ativo, retornos_mercado)\n",
        "        print(f\"Beta: {beta:.4f}\")\n",
        "        print(f\"Coeficiente de Determinação (R²): {r2:.4f}\")"
      ]
    }
  ]
}